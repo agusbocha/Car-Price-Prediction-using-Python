{
 "cells": [
  {
   "cell_type": "markdown",
   "id": "449fd13b-0f4a-483d-99a0-2131fad03a13",
   "metadata": {
    "tags": []
   },
   "source": [
    "# Proyecto final del curso de Data Science comision 23050"
   ]
  },
  {
   "cell_type": "markdown",
   "id": "0e3ac645-c283-4076-a907-a34cc0bff2e9",
   "metadata": {
    "jp-MarkdownHeadingCollapsed": true,
    "tags": []
   },
   "source": [
    "#### El dataset se obtuvo del siguiente link (https://www.kaggle.com/datasets/nehalbirla/vehicle-dataset-from-cardekho?ref=hackernoon.com&select=Car+details+v3.csv). \n",
    "### Objetivo a resolver:\n",
    "#### Poder predecir el precio de un auto segun distintas variables que se obtienen"
   ]
  },
  {
   "cell_type": "markdown",
   "id": "2656f9af-bea9-4bc5-8326-72c0c11a5889",
   "metadata": {
    "jp-MarkdownHeadingCollapsed": true,
    "tags": []
   },
   "source": [
    "## Importacion de las librerias"
   ]
  },
  {
   "cell_type": "code",
   "execution_count": 1,
   "id": "ef9fe015-72fd-486e-a071-e9c1a1ab0453",
   "metadata": {},
   "outputs": [],
   "source": [
    "# deshabilito los warnings\n",
    "import warnings\n",
    "warnings.filterwarnings('ignore')\n",
    "\n",
    "#Datos\n",
    "import pandas as pd\n",
    "import numpy as np\n",
    "\n",
    "# Visualizacion de Datos\n",
    "import matplotlib\n",
    "import matplotlib.pyplot as plt\n",
    "import seaborn as sns\n",
    "# esta línea se agrega para que imprima los gráficos dentro del notebook\n",
    "%matplotlib inline  \n",
    "\n",
    "from funpymodeling.exploratory import profiling_num\n",
    "from funpymodeling.exploratory import freq_tbl\n",
    "\n",
    "# modelos\n",
    "from sklearn import linear_model\n",
    "from sklearn.tree import DecisionTreeClassifier\n",
    "from sklearn import tree\n",
    "from sklearn.ensemble import RandomForestRegressor\n",
    "from sklearn.neighbors import KNeighborsRegressor\n",
    "\n",
    "from sklearn import preprocessing \n",
    "from sklearn.model_selection import KFold\n",
    "# metricas\n",
    "from sklearn import model_selection, metrics\n",
    "from sklearn.metrics import mean_absolute_error\n",
    "from sklearn.metrics import mean_squared_error\n",
    "from sklearn.metrics import r2_score\n",
    "\n",
    "import math, time, random, datetime"
   ]
  },
  {
   "cell_type": "markdown",
   "id": "81817ba0-ad2b-4f04-9677-7745a501a201",
   "metadata": {
    "jp-MarkdownHeadingCollapsed": true,
    "tags": []
   },
   "source": [
    "## Data Acquisition"
   ]
  },
  {
   "cell_type": "code",
   "execution_count": 2,
   "id": "c211f049-6f42-41d6-9a8a-832248307495",
   "metadata": {},
   "outputs": [
    {
     "data": {
      "text/html": [
       "<div>\n",
       "<style scoped>\n",
       "    .dataframe tbody tr th:only-of-type {\n",
       "        vertical-align: middle;\n",
       "    }\n",
       "\n",
       "    .dataframe tbody tr th {\n",
       "        vertical-align: top;\n",
       "    }\n",
       "\n",
       "    .dataframe thead th {\n",
       "        text-align: right;\n",
       "    }\n",
       "</style>\n",
       "<table border=\"1\" class=\"dataframe\">\n",
       "  <thead>\n",
       "    <tr style=\"text-align: right;\">\n",
       "      <th></th>\n",
       "      <th>name</th>\n",
       "      <th>year</th>\n",
       "      <th>selling_price</th>\n",
       "      <th>km_driven</th>\n",
       "      <th>fuel</th>\n",
       "      <th>seller_type</th>\n",
       "      <th>transmission</th>\n",
       "      <th>owner</th>\n",
       "      <th>mileage</th>\n",
       "      <th>engine</th>\n",
       "      <th>max_power</th>\n",
       "      <th>torque</th>\n",
       "      <th>seats</th>\n",
       "    </tr>\n",
       "  </thead>\n",
       "  <tbody>\n",
       "    <tr>\n",
       "      <th>0</th>\n",
       "      <td>Maruti Swift Dzire VDI</td>\n",
       "      <td>2014</td>\n",
       "      <td>450000</td>\n",
       "      <td>145500</td>\n",
       "      <td>Diesel</td>\n",
       "      <td>Individual</td>\n",
       "      <td>Manual</td>\n",
       "      <td>First Owner</td>\n",
       "      <td>23.4 kmpl</td>\n",
       "      <td>1248 CC</td>\n",
       "      <td>74 bhp</td>\n",
       "      <td>190Nm@ 2000rpm</td>\n",
       "      <td>5.0</td>\n",
       "    </tr>\n",
       "    <tr>\n",
       "      <th>1</th>\n",
       "      <td>Skoda Rapid 1.5 TDI Ambition</td>\n",
       "      <td>2014</td>\n",
       "      <td>370000</td>\n",
       "      <td>120000</td>\n",
       "      <td>Diesel</td>\n",
       "      <td>Individual</td>\n",
       "      <td>Manual</td>\n",
       "      <td>Second Owner</td>\n",
       "      <td>21.14 kmpl</td>\n",
       "      <td>1498 CC</td>\n",
       "      <td>103.52 bhp</td>\n",
       "      <td>250Nm@ 1500-2500rpm</td>\n",
       "      <td>5.0</td>\n",
       "    </tr>\n",
       "    <tr>\n",
       "      <th>2</th>\n",
       "      <td>Honda City 2017-2020 EXi</td>\n",
       "      <td>2006</td>\n",
       "      <td>158000</td>\n",
       "      <td>140000</td>\n",
       "      <td>Petrol</td>\n",
       "      <td>Individual</td>\n",
       "      <td>Manual</td>\n",
       "      <td>Third Owner</td>\n",
       "      <td>17.7 kmpl</td>\n",
       "      <td>1497 CC</td>\n",
       "      <td>78 bhp</td>\n",
       "      <td>12.7@ 2,700(kgm@ rpm)</td>\n",
       "      <td>5.0</td>\n",
       "    </tr>\n",
       "    <tr>\n",
       "      <th>3</th>\n",
       "      <td>Hyundai i20 Sportz Diesel</td>\n",
       "      <td>2010</td>\n",
       "      <td>225000</td>\n",
       "      <td>127000</td>\n",
       "      <td>Diesel</td>\n",
       "      <td>Individual</td>\n",
       "      <td>Manual</td>\n",
       "      <td>First Owner</td>\n",
       "      <td>23.0 kmpl</td>\n",
       "      <td>1396 CC</td>\n",
       "      <td>90 bhp</td>\n",
       "      <td>22.4 kgm at 1750-2750rpm</td>\n",
       "      <td>5.0</td>\n",
       "    </tr>\n",
       "    <tr>\n",
       "      <th>4</th>\n",
       "      <td>Maruti Swift VXI BSIII</td>\n",
       "      <td>2007</td>\n",
       "      <td>130000</td>\n",
       "      <td>120000</td>\n",
       "      <td>Petrol</td>\n",
       "      <td>Individual</td>\n",
       "      <td>Manual</td>\n",
       "      <td>First Owner</td>\n",
       "      <td>16.1 kmpl</td>\n",
       "      <td>1298 CC</td>\n",
       "      <td>88.2 bhp</td>\n",
       "      <td>11.5@ 4,500(kgm@ rpm)</td>\n",
       "      <td>5.0</td>\n",
       "    </tr>\n",
       "  </tbody>\n",
       "</table>\n",
       "</div>"
      ],
      "text/plain": [
       "                           name  year  selling_price  km_driven    fuel  \\\n",
       "0        Maruti Swift Dzire VDI  2014         450000     145500  Diesel   \n",
       "1  Skoda Rapid 1.5 TDI Ambition  2014         370000     120000  Diesel   \n",
       "2      Honda City 2017-2020 EXi  2006         158000     140000  Petrol   \n",
       "3     Hyundai i20 Sportz Diesel  2010         225000     127000  Diesel   \n",
       "4        Maruti Swift VXI BSIII  2007         130000     120000  Petrol   \n",
       "\n",
       "  seller_type transmission         owner     mileage   engine   max_power  \\\n",
       "0  Individual       Manual   First Owner   23.4 kmpl  1248 CC      74 bhp   \n",
       "1  Individual       Manual  Second Owner  21.14 kmpl  1498 CC  103.52 bhp   \n",
       "2  Individual       Manual   Third Owner   17.7 kmpl  1497 CC      78 bhp   \n",
       "3  Individual       Manual   First Owner   23.0 kmpl  1396 CC      90 bhp   \n",
       "4  Individual       Manual   First Owner   16.1 kmpl  1298 CC    88.2 bhp   \n",
       "\n",
       "                     torque  seats  \n",
       "0            190Nm@ 2000rpm    5.0  \n",
       "1       250Nm@ 1500-2500rpm    5.0  \n",
       "2     12.7@ 2,700(kgm@ rpm)    5.0  \n",
       "3  22.4 kgm at 1750-2750rpm    5.0  \n",
       "4     11.5@ 4,500(kgm@ rpm)    5.0  "
      ]
     },
     "execution_count": 2,
     "metadata": {},
     "output_type": "execute_result"
    }
   ],
   "source": [
    "# Obtencion del Dataset\n",
    "\n",
    "df = pd.read_csv(\"Car details v3.csv\")\n",
    "df.head()"
   ]
  },
  {
   "cell_type": "markdown",
   "id": "4a0caf08-2b42-4923-85a4-abb860a3cc33",
   "metadata": {
    "jp-MarkdownHeadingCollapsed": true,
    "tags": []
   },
   "source": [
    "## Data Wrangling"
   ]
  },
  {
   "cell_type": "code",
   "execution_count": 3,
   "id": "29587545-4a12-48b1-aa1a-8196df96ec0c",
   "metadata": {},
   "outputs": [
    {
     "data": {
      "text/plain": [
       "(8128, 13)"
      ]
     },
     "execution_count": 3,
     "metadata": {},
     "output_type": "execute_result"
    }
   ],
   "source": [
    "# Observo la dimension del df\n",
    "\n",
    "df.shape"
   ]
  },
  {
   "cell_type": "code",
   "execution_count": 4,
   "id": "6e97f7d6-a64a-45f0-af1a-26924b6896fb",
   "metadata": {},
   "outputs": [
    {
     "data": {
      "text/plain": [
       "name               0\n",
       "year               0\n",
       "selling_price      0\n",
       "km_driven          0\n",
       "fuel               0\n",
       "seller_type        0\n",
       "transmission       0\n",
       "owner              0\n",
       "mileage          221\n",
       "engine           221\n",
       "max_power        215\n",
       "torque           222\n",
       "seats            221\n",
       "dtype: int64"
      ]
     },
     "execution_count": 4,
     "metadata": {},
     "output_type": "execute_result"
    }
   ],
   "source": [
    "# veo la cantidad de valores vacios que hay.\n",
    "\n",
    "df.isnull().sum()"
   ]
  },
  {
   "cell_type": "code",
   "execution_count": 5,
   "id": "4d03f9b4-ce5a-4718-9cc4-c938c4a2ee49",
   "metadata": {},
   "outputs": [],
   "source": [
    "# se decide eliminar los registros con valores vacios\n",
    "\n",
    "df.dropna(inplace=True)"
   ]
  },
  {
   "cell_type": "code",
   "execution_count": 6,
   "id": "66ded88a-c2f2-4284-a0ba-c2db018a3aa8",
   "metadata": {},
   "outputs": [
    {
     "data": {
      "text/plain": [
       "(7906, 13)"
      ]
     },
     "execution_count": 6,
     "metadata": {},
     "output_type": "execute_result"
    }
   ],
   "source": [
    "# observo nuevamente el tamaño sin los valores na\n",
    "df.shape"
   ]
  },
  {
   "cell_type": "code",
   "execution_count": 7,
   "id": "0e399f7e-12e1-4b6f-b7a6-ab9a96ddff3a",
   "metadata": {},
   "outputs": [
    {
     "data": {
      "text/plain": [
       "name             0\n",
       "year             0\n",
       "selling_price    0\n",
       "km_driven        0\n",
       "fuel             0\n",
       "seller_type      0\n",
       "transmission     0\n",
       "owner            0\n",
       "mileage          0\n",
       "engine           0\n",
       "max_power        0\n",
       "torque           0\n",
       "seats            0\n",
       "dtype: int64"
      ]
     },
     "execution_count": 7,
     "metadata": {},
     "output_type": "execute_result"
    }
   ],
   "source": [
    "# se comprueba que ya no quedan valores vacios en ningun registro\n",
    "\n",
    "df.isnull().sum()"
   ]
  },
  {
   "cell_type": "code",
   "execution_count": 8,
   "id": "43082edd-764b-41eb-b056-6e40576d682b",
   "metadata": {},
   "outputs": [
    {
     "data": {
      "text/plain": [
       "name              object\n",
       "year               int64\n",
       "selling_price      int64\n",
       "km_driven          int64\n",
       "fuel              object\n",
       "seller_type       object\n",
       "transmission      object\n",
       "owner             object\n",
       "mileage           object\n",
       "engine            object\n",
       "max_power         object\n",
       "torque            object\n",
       "seats            float64\n",
       "dtype: object"
      ]
     },
     "execution_count": 8,
     "metadata": {},
     "output_type": "execute_result"
    }
   ],
   "source": [
    "# veo los tipos de datos de cada variable. Observo que las variables mileage, engine y max_power son de tipo objeto ya que tienen el valor numero y el valor de medicion de ese dato.\n",
    "\n",
    "df.dtypes"
   ]
  },
  {
   "cell_type": "code",
   "execution_count": 9,
   "id": "4a65b9aa-ad2c-4c50-93cd-f0f81342228d",
   "metadata": {},
   "outputs": [],
   "source": [
    "# se procede a separar las variables mencionadas en el punto anterior para que se puedan trabajar como valores numericos.\n",
    "\n",
    "mileage = df['mileage'].str.split(' ', expand=True)\n",
    "engine = df['engine'].str.split(' ', expand=True)\n",
    "max_power = df['max_power'].str.split(' ', expand=True)"
   ]
  },
  {
   "cell_type": "code",
   "execution_count": 10,
   "id": "5b41456e-8fa7-4a26-a7d9-8f2e100dcff2",
   "metadata": {},
   "outputs": [],
   "source": [
    "# elimino las 3 columnas en cuestion para luego reemplazarlas por los valores que separe\n",
    "\n",
    "df.drop([\"mileage\", \"engine\", \"max_power\"], inplace=True, axis=1)"
   ]
  },
  {
   "cell_type": "code",
   "execution_count": 11,
   "id": "5acd12a3-24ec-4da7-9b32-c90ecd95fedc",
   "metadata": {},
   "outputs": [],
   "source": [
    "# empiezo separando la varialbe mileage. Obtengo millas y la unidad de medida\n",
    "\n",
    "df[[\"miles_per_liter\",\"measure\"]] = mileage"
   ]
  },
  {
   "cell_type": "code",
   "execution_count": 12,
   "id": "e19dc49c-9129-49db-a3e7-73baaa1a6be2",
   "metadata": {},
   "outputs": [
    {
     "data": {
      "text/plain": [
       "kmpl     7819\n",
       "km/kg      87\n",
       "Name: measure, dtype: int64"
      ]
     },
     "execution_count": 12,
     "metadata": {},
     "output_type": "execute_result"
    }
   ],
   "source": [
    "# observo que tengo 7819 registros como \"kilometros por litro\" y 87 en \"kilometros por kilo\". Para facilitar el analisis voy a eliminar los 87 registros que se midieron por kilo.\n",
    "df[\"measure\"].value_counts()"
   ]
  },
  {
   "cell_type": "code",
   "execution_count": 13,
   "id": "3eca4781-3f39-4159-ab89-b5aab3b144d4",
   "metadata": {},
   "outputs": [],
   "source": [
    "# me quedo solo con los que se midieron por litro\n",
    "\n",
    "df = df[df[\"measure\"] == \"kmpl\"]"
   ]
  },
  {
   "cell_type": "code",
   "execution_count": 14,
   "id": "bcd3407b-ea93-4e2b-8671-e8dc662f8969",
   "metadata": {},
   "outputs": [],
   "source": [
    "# separo ahora los valores obtenidos de la variable engine\n",
    "\n",
    "df[[\"engine_consumption\",\"engine_measure\"]] = engine"
   ]
  },
  {
   "cell_type": "code",
   "execution_count": 15,
   "id": "895f33c1-7aaa-4112-a291-c943957b56b4",
   "metadata": {},
   "outputs": [
    {
     "data": {
      "text/plain": [
       "CC    7819\n",
       "Name: engine_measure, dtype: int64"
      ]
     },
     "execution_count": 15,
     "metadata": {},
     "output_type": "execute_result"
    }
   ],
   "source": [
    "# observo que valores tengo en la columna \"engine_measure\". Me doy cuenta que solo tengo CC, asi que no hace falta hacer nada mas aca.\n",
    "\n",
    "df[\"engine_measure\"].value_counts()"
   ]
  },
  {
   "cell_type": "code",
   "execution_count": 16,
   "id": "b257a4d0-c566-4508-b54f-f59e1ab808e7",
   "metadata": {},
   "outputs": [],
   "source": [
    "# separo ahora los valores obtenidos de la variable max_power\n",
    "\n",
    "df[[\"max_power\",\"max_power_measure\"]] = max_power"
   ]
  },
  {
   "cell_type": "code",
   "execution_count": 17,
   "id": "f9e62ebc-d6ed-48b3-8f35-fe5579919919",
   "metadata": {},
   "outputs": [
    {
     "data": {
      "text/plain": [
       "bhp    7819\n",
       "Name: max_power_measure, dtype: int64"
      ]
     },
     "execution_count": 17,
     "metadata": {},
     "output_type": "execute_result"
    }
   ],
   "source": [
    "# observo que aca tambien solo tengo un valor de medida, asi que no hay que hacer nada mas.\n",
    "\n",
    "df[\"max_power_measure\"].value_counts()"
   ]
  },
  {
   "cell_type": "code",
   "execution_count": 18,
   "id": "35630481-0c76-4706-9788-a332cdfdaf1f",
   "metadata": {},
   "outputs": [
    {
     "data": {
      "text/html": [
       "<div>\n",
       "<style scoped>\n",
       "    .dataframe tbody tr th:only-of-type {\n",
       "        vertical-align: middle;\n",
       "    }\n",
       "\n",
       "    .dataframe tbody tr th {\n",
       "        vertical-align: top;\n",
       "    }\n",
       "\n",
       "    .dataframe thead th {\n",
       "        text-align: right;\n",
       "    }\n",
       "</style>\n",
       "<table border=\"1\" class=\"dataframe\">\n",
       "  <thead>\n",
       "    <tr style=\"text-align: right;\">\n",
       "      <th></th>\n",
       "      <th>name</th>\n",
       "      <th>year</th>\n",
       "      <th>selling_price</th>\n",
       "      <th>km_driven</th>\n",
       "      <th>fuel</th>\n",
       "      <th>seller_type</th>\n",
       "      <th>transmission</th>\n",
       "      <th>owner</th>\n",
       "      <th>torque</th>\n",
       "      <th>seats</th>\n",
       "      <th>miles_per_liter</th>\n",
       "      <th>measure</th>\n",
       "      <th>engine_consumption</th>\n",
       "      <th>engine_measure</th>\n",
       "      <th>max_power</th>\n",
       "      <th>max_power_measure</th>\n",
       "    </tr>\n",
       "  </thead>\n",
       "  <tbody>\n",
       "    <tr>\n",
       "      <th>0</th>\n",
       "      <td>Maruti Swift Dzire VDI</td>\n",
       "      <td>2014</td>\n",
       "      <td>450000</td>\n",
       "      <td>145500</td>\n",
       "      <td>Diesel</td>\n",
       "      <td>Individual</td>\n",
       "      <td>Manual</td>\n",
       "      <td>First Owner</td>\n",
       "      <td>190Nm@ 2000rpm</td>\n",
       "      <td>5.0</td>\n",
       "      <td>23.4</td>\n",
       "      <td>kmpl</td>\n",
       "      <td>1248</td>\n",
       "      <td>CC</td>\n",
       "      <td>74</td>\n",
       "      <td>bhp</td>\n",
       "    </tr>\n",
       "    <tr>\n",
       "      <th>1</th>\n",
       "      <td>Skoda Rapid 1.5 TDI Ambition</td>\n",
       "      <td>2014</td>\n",
       "      <td>370000</td>\n",
       "      <td>120000</td>\n",
       "      <td>Diesel</td>\n",
       "      <td>Individual</td>\n",
       "      <td>Manual</td>\n",
       "      <td>Second Owner</td>\n",
       "      <td>250Nm@ 1500-2500rpm</td>\n",
       "      <td>5.0</td>\n",
       "      <td>21.14</td>\n",
       "      <td>kmpl</td>\n",
       "      <td>1498</td>\n",
       "      <td>CC</td>\n",
       "      <td>103.52</td>\n",
       "      <td>bhp</td>\n",
       "    </tr>\n",
       "    <tr>\n",
       "      <th>2</th>\n",
       "      <td>Honda City 2017-2020 EXi</td>\n",
       "      <td>2006</td>\n",
       "      <td>158000</td>\n",
       "      <td>140000</td>\n",
       "      <td>Petrol</td>\n",
       "      <td>Individual</td>\n",
       "      <td>Manual</td>\n",
       "      <td>Third Owner</td>\n",
       "      <td>12.7@ 2,700(kgm@ rpm)</td>\n",
       "      <td>5.0</td>\n",
       "      <td>17.7</td>\n",
       "      <td>kmpl</td>\n",
       "      <td>1497</td>\n",
       "      <td>CC</td>\n",
       "      <td>78</td>\n",
       "      <td>bhp</td>\n",
       "    </tr>\n",
       "    <tr>\n",
       "      <th>3</th>\n",
       "      <td>Hyundai i20 Sportz Diesel</td>\n",
       "      <td>2010</td>\n",
       "      <td>225000</td>\n",
       "      <td>127000</td>\n",
       "      <td>Diesel</td>\n",
       "      <td>Individual</td>\n",
       "      <td>Manual</td>\n",
       "      <td>First Owner</td>\n",
       "      <td>22.4 kgm at 1750-2750rpm</td>\n",
       "      <td>5.0</td>\n",
       "      <td>23.0</td>\n",
       "      <td>kmpl</td>\n",
       "      <td>1396</td>\n",
       "      <td>CC</td>\n",
       "      <td>90</td>\n",
       "      <td>bhp</td>\n",
       "    </tr>\n",
       "    <tr>\n",
       "      <th>4</th>\n",
       "      <td>Maruti Swift VXI BSIII</td>\n",
       "      <td>2007</td>\n",
       "      <td>130000</td>\n",
       "      <td>120000</td>\n",
       "      <td>Petrol</td>\n",
       "      <td>Individual</td>\n",
       "      <td>Manual</td>\n",
       "      <td>First Owner</td>\n",
       "      <td>11.5@ 4,500(kgm@ rpm)</td>\n",
       "      <td>5.0</td>\n",
       "      <td>16.1</td>\n",
       "      <td>kmpl</td>\n",
       "      <td>1298</td>\n",
       "      <td>CC</td>\n",
       "      <td>88.2</td>\n",
       "      <td>bhp</td>\n",
       "    </tr>\n",
       "  </tbody>\n",
       "</table>\n",
       "</div>"
      ],
      "text/plain": [
       "                           name  year  selling_price  km_driven    fuel  \\\n",
       "0        Maruti Swift Dzire VDI  2014         450000     145500  Diesel   \n",
       "1  Skoda Rapid 1.5 TDI Ambition  2014         370000     120000  Diesel   \n",
       "2      Honda City 2017-2020 EXi  2006         158000     140000  Petrol   \n",
       "3     Hyundai i20 Sportz Diesel  2010         225000     127000  Diesel   \n",
       "4        Maruti Swift VXI BSIII  2007         130000     120000  Petrol   \n",
       "\n",
       "  seller_type transmission         owner                    torque  seats  \\\n",
       "0  Individual       Manual   First Owner            190Nm@ 2000rpm    5.0   \n",
       "1  Individual       Manual  Second Owner       250Nm@ 1500-2500rpm    5.0   \n",
       "2  Individual       Manual   Third Owner     12.7@ 2,700(kgm@ rpm)    5.0   \n",
       "3  Individual       Manual   First Owner  22.4 kgm at 1750-2750rpm    5.0   \n",
       "4  Individual       Manual   First Owner     11.5@ 4,500(kgm@ rpm)    5.0   \n",
       "\n",
       "  miles_per_liter measure engine_consumption engine_measure max_power  \\\n",
       "0            23.4    kmpl               1248             CC        74   \n",
       "1           21.14    kmpl               1498             CC    103.52   \n",
       "2            17.7    kmpl               1497             CC        78   \n",
       "3            23.0    kmpl               1396             CC        90   \n",
       "4            16.1    kmpl               1298             CC      88.2   \n",
       "\n",
       "  max_power_measure  \n",
       "0               bhp  \n",
       "1               bhp  \n",
       "2               bhp  \n",
       "3               bhp  \n",
       "4               bhp  "
      ]
     },
     "execution_count": 18,
     "metadata": {},
     "output_type": "execute_result"
    }
   ],
   "source": [
    "# veo como tengo el df hasta el momento\n",
    "\n",
    "df.head()"
   ]
  },
  {
   "cell_type": "code",
   "execution_count": 19,
   "id": "43ae9f7a-0a6f-4e2a-962d-6874cf616934",
   "metadata": {},
   "outputs": [
    {
     "name": "stdout",
     "output_type": "stream",
     "text": [
      "<class 'pandas.core.frame.DataFrame'>\n",
      "Int64Index: 7819 entries, 0 to 8127\n",
      "Data columns (total 16 columns):\n",
      " #   Column              Non-Null Count  Dtype  \n",
      "---  ------              --------------  -----  \n",
      " 0   name                7819 non-null   object \n",
      " 1   year                7819 non-null   int64  \n",
      " 2   selling_price       7819 non-null   int64  \n",
      " 3   km_driven           7819 non-null   int64  \n",
      " 4   fuel                7819 non-null   object \n",
      " 5   seller_type         7819 non-null   object \n",
      " 6   transmission        7819 non-null   object \n",
      " 7   owner               7819 non-null   object \n",
      " 8   torque              7819 non-null   object \n",
      " 9   seats               7819 non-null   float64\n",
      " 10  miles_per_liter     7819 non-null   object \n",
      " 11  measure             7819 non-null   object \n",
      " 12  engine_consumption  7819 non-null   object \n",
      " 13  engine_measure      7819 non-null   object \n",
      " 14  max_power           7819 non-null   object \n",
      " 15  max_power_measure   7819 non-null   object \n",
      "dtypes: float64(1), int64(3), object(12)\n",
      "memory usage: 1.0+ MB\n"
     ]
    }
   ],
   "source": [
    "# vuelvo a ver los tipos de datos y veo que, a pesar de haber convertido las columnas a variables con numeros, el tipo de dato sigue siendo \"object\"\n",
    "\n",
    "df.info()"
   ]
  },
  {
   "cell_type": "code",
   "execution_count": 20,
   "id": "7e8e6991-8970-4c07-b717-a487d2dbef05",
   "metadata": {},
   "outputs": [],
   "source": [
    "# hago la conversion de las variables que me interesan a tipo de valor flotante\n",
    "\n",
    "df[[\"miles_per_liter\",\"engine_consumption\",\"max_power\"]]= df[[\"miles_per_liter\",\"engine_consumption\",\"max_power\"]].astype(\"float\")"
   ]
  },
  {
   "cell_type": "code",
   "execution_count": 21,
   "id": "12a12be4-c420-4d59-85e6-64c0d773b421",
   "metadata": {},
   "outputs": [
    {
     "name": "stdout",
     "output_type": "stream",
     "text": [
      "<class 'pandas.core.frame.DataFrame'>\n",
      "Int64Index: 7819 entries, 0 to 8127\n",
      "Data columns (total 16 columns):\n",
      " #   Column              Non-Null Count  Dtype  \n",
      "---  ------              --------------  -----  \n",
      " 0   name                7819 non-null   object \n",
      " 1   year                7819 non-null   int64  \n",
      " 2   selling_price       7819 non-null   int64  \n",
      " 3   km_driven           7819 non-null   int64  \n",
      " 4   fuel                7819 non-null   object \n",
      " 5   seller_type         7819 non-null   object \n",
      " 6   transmission        7819 non-null   object \n",
      " 7   owner               7819 non-null   object \n",
      " 8   torque              7819 non-null   object \n",
      " 9   seats               7819 non-null   float64\n",
      " 10  miles_per_liter     7819 non-null   float64\n",
      " 11  measure             7819 non-null   object \n",
      " 12  engine_consumption  7819 non-null   float64\n",
      " 13  engine_measure      7819 non-null   object \n",
      " 14  max_power           7819 non-null   float64\n",
      " 15  max_power_measure   7819 non-null   object \n",
      "dtypes: float64(4), int64(3), object(9)\n",
      "memory usage: 1.0+ MB\n"
     ]
    }
   ],
   "source": [
    "# vuelvo a observar los tipos de datos, ahora si correctamente\n",
    "\n",
    "df.info()"
   ]
  },
  {
   "cell_type": "code",
   "execution_count": 22,
   "id": "d92e2238-0f2a-4eb9-9c35-d71efc62d4b7",
   "metadata": {},
   "outputs": [],
   "source": [
    "# me quedo con las columnas que me va a interesar trabajar\n",
    "\n",
    "df_reduced = df[[\"year\",\"km_driven\", \"fuel\", \"seller_type\", \"transmission\", \"owner\", \"seats\", \"miles_per_liter\", \"engine_consumption\", \"max_power\",\"selling_price\"]]"
   ]
  },
  {
   "cell_type": "code",
   "execution_count": 23,
   "id": "7918c3b6-c6ea-4118-9578-c124cd887286",
   "metadata": {},
   "outputs": [
    {
     "data": {
      "text/html": [
       "<div>\n",
       "<style scoped>\n",
       "    .dataframe tbody tr th:only-of-type {\n",
       "        vertical-align: middle;\n",
       "    }\n",
       "\n",
       "    .dataframe tbody tr th {\n",
       "        vertical-align: top;\n",
       "    }\n",
       "\n",
       "    .dataframe thead th {\n",
       "        text-align: right;\n",
       "    }\n",
       "</style>\n",
       "<table border=\"1\" class=\"dataframe\">\n",
       "  <thead>\n",
       "    <tr style=\"text-align: right;\">\n",
       "      <th></th>\n",
       "      <th>year</th>\n",
       "      <th>km_driven</th>\n",
       "      <th>fuel</th>\n",
       "      <th>seller_type</th>\n",
       "      <th>transmission</th>\n",
       "      <th>owner</th>\n",
       "      <th>seats</th>\n",
       "      <th>miles_per_liter</th>\n",
       "      <th>engine_consumption</th>\n",
       "      <th>max_power</th>\n",
       "      <th>selling_price</th>\n",
       "    </tr>\n",
       "  </thead>\n",
       "  <tbody>\n",
       "    <tr>\n",
       "      <th>0</th>\n",
       "      <td>2014</td>\n",
       "      <td>145500</td>\n",
       "      <td>Diesel</td>\n",
       "      <td>Individual</td>\n",
       "      <td>Manual</td>\n",
       "      <td>First Owner</td>\n",
       "      <td>5.0</td>\n",
       "      <td>23.40</td>\n",
       "      <td>1248.0</td>\n",
       "      <td>74.00</td>\n",
       "      <td>450000</td>\n",
       "    </tr>\n",
       "    <tr>\n",
       "      <th>1</th>\n",
       "      <td>2014</td>\n",
       "      <td>120000</td>\n",
       "      <td>Diesel</td>\n",
       "      <td>Individual</td>\n",
       "      <td>Manual</td>\n",
       "      <td>Second Owner</td>\n",
       "      <td>5.0</td>\n",
       "      <td>21.14</td>\n",
       "      <td>1498.0</td>\n",
       "      <td>103.52</td>\n",
       "      <td>370000</td>\n",
       "    </tr>\n",
       "    <tr>\n",
       "      <th>2</th>\n",
       "      <td>2006</td>\n",
       "      <td>140000</td>\n",
       "      <td>Petrol</td>\n",
       "      <td>Individual</td>\n",
       "      <td>Manual</td>\n",
       "      <td>Third Owner</td>\n",
       "      <td>5.0</td>\n",
       "      <td>17.70</td>\n",
       "      <td>1497.0</td>\n",
       "      <td>78.00</td>\n",
       "      <td>158000</td>\n",
       "    </tr>\n",
       "    <tr>\n",
       "      <th>3</th>\n",
       "      <td>2010</td>\n",
       "      <td>127000</td>\n",
       "      <td>Diesel</td>\n",
       "      <td>Individual</td>\n",
       "      <td>Manual</td>\n",
       "      <td>First Owner</td>\n",
       "      <td>5.0</td>\n",
       "      <td>23.00</td>\n",
       "      <td>1396.0</td>\n",
       "      <td>90.00</td>\n",
       "      <td>225000</td>\n",
       "    </tr>\n",
       "    <tr>\n",
       "      <th>4</th>\n",
       "      <td>2007</td>\n",
       "      <td>120000</td>\n",
       "      <td>Petrol</td>\n",
       "      <td>Individual</td>\n",
       "      <td>Manual</td>\n",
       "      <td>First Owner</td>\n",
       "      <td>5.0</td>\n",
       "      <td>16.10</td>\n",
       "      <td>1298.0</td>\n",
       "      <td>88.20</td>\n",
       "      <td>130000</td>\n",
       "    </tr>\n",
       "    <tr>\n",
       "      <th>...</th>\n",
       "      <td>...</td>\n",
       "      <td>...</td>\n",
       "      <td>...</td>\n",
       "      <td>...</td>\n",
       "      <td>...</td>\n",
       "      <td>...</td>\n",
       "      <td>...</td>\n",
       "      <td>...</td>\n",
       "      <td>...</td>\n",
       "      <td>...</td>\n",
       "      <td>...</td>\n",
       "    </tr>\n",
       "    <tr>\n",
       "      <th>8123</th>\n",
       "      <td>2013</td>\n",
       "      <td>110000</td>\n",
       "      <td>Petrol</td>\n",
       "      <td>Individual</td>\n",
       "      <td>Manual</td>\n",
       "      <td>First Owner</td>\n",
       "      <td>5.0</td>\n",
       "      <td>18.50</td>\n",
       "      <td>1197.0</td>\n",
       "      <td>82.85</td>\n",
       "      <td>320000</td>\n",
       "    </tr>\n",
       "    <tr>\n",
       "      <th>8124</th>\n",
       "      <td>2007</td>\n",
       "      <td>119000</td>\n",
       "      <td>Diesel</td>\n",
       "      <td>Individual</td>\n",
       "      <td>Manual</td>\n",
       "      <td>Fourth &amp; Above Owner</td>\n",
       "      <td>5.0</td>\n",
       "      <td>16.80</td>\n",
       "      <td>1493.0</td>\n",
       "      <td>110.00</td>\n",
       "      <td>135000</td>\n",
       "    </tr>\n",
       "    <tr>\n",
       "      <th>8125</th>\n",
       "      <td>2009</td>\n",
       "      <td>120000</td>\n",
       "      <td>Diesel</td>\n",
       "      <td>Individual</td>\n",
       "      <td>Manual</td>\n",
       "      <td>First Owner</td>\n",
       "      <td>5.0</td>\n",
       "      <td>19.30</td>\n",
       "      <td>1248.0</td>\n",
       "      <td>73.90</td>\n",
       "      <td>382000</td>\n",
       "    </tr>\n",
       "    <tr>\n",
       "      <th>8126</th>\n",
       "      <td>2013</td>\n",
       "      <td>25000</td>\n",
       "      <td>Diesel</td>\n",
       "      <td>Individual</td>\n",
       "      <td>Manual</td>\n",
       "      <td>First Owner</td>\n",
       "      <td>5.0</td>\n",
       "      <td>23.57</td>\n",
       "      <td>1396.0</td>\n",
       "      <td>70.00</td>\n",
       "      <td>290000</td>\n",
       "    </tr>\n",
       "    <tr>\n",
       "      <th>8127</th>\n",
       "      <td>2013</td>\n",
       "      <td>25000</td>\n",
       "      <td>Diesel</td>\n",
       "      <td>Individual</td>\n",
       "      <td>Manual</td>\n",
       "      <td>First Owner</td>\n",
       "      <td>5.0</td>\n",
       "      <td>23.57</td>\n",
       "      <td>1396.0</td>\n",
       "      <td>70.00</td>\n",
       "      <td>290000</td>\n",
       "    </tr>\n",
       "  </tbody>\n",
       "</table>\n",
       "<p>7819 rows × 11 columns</p>\n",
       "</div>"
      ],
      "text/plain": [
       "      year  km_driven    fuel seller_type transmission                 owner  \\\n",
       "0     2014     145500  Diesel  Individual       Manual           First Owner   \n",
       "1     2014     120000  Diesel  Individual       Manual          Second Owner   \n",
       "2     2006     140000  Petrol  Individual       Manual           Third Owner   \n",
       "3     2010     127000  Diesel  Individual       Manual           First Owner   \n",
       "4     2007     120000  Petrol  Individual       Manual           First Owner   \n",
       "...    ...        ...     ...         ...          ...                   ...   \n",
       "8123  2013     110000  Petrol  Individual       Manual           First Owner   \n",
       "8124  2007     119000  Diesel  Individual       Manual  Fourth & Above Owner   \n",
       "8125  2009     120000  Diesel  Individual       Manual           First Owner   \n",
       "8126  2013      25000  Diesel  Individual       Manual           First Owner   \n",
       "8127  2013      25000  Diesel  Individual       Manual           First Owner   \n",
       "\n",
       "      seats  miles_per_liter  engine_consumption  max_power  selling_price  \n",
       "0       5.0            23.40              1248.0      74.00         450000  \n",
       "1       5.0            21.14              1498.0     103.52         370000  \n",
       "2       5.0            17.70              1497.0      78.00         158000  \n",
       "3       5.0            23.00              1396.0      90.00         225000  \n",
       "4       5.0            16.10              1298.0      88.20         130000  \n",
       "...     ...              ...                 ...        ...            ...  \n",
       "8123    5.0            18.50              1197.0      82.85         320000  \n",
       "8124    5.0            16.80              1493.0     110.00         135000  \n",
       "8125    5.0            19.30              1248.0      73.90         382000  \n",
       "8126    5.0            23.57              1396.0      70.00         290000  \n",
       "8127    5.0            23.57              1396.0      70.00         290000  \n",
       "\n",
       "[7819 rows x 11 columns]"
      ]
     },
     "execution_count": 23,
     "metadata": {},
     "output_type": "execute_result"
    }
   ],
   "source": [
    "# observo la informacion\n",
    "\n",
    "df_reduced"
   ]
  },
  {
   "cell_type": "markdown",
   "id": "0ae7178e-72dc-4b85-9745-fcab8538215b",
   "metadata": {
    "jp-MarkdownHeadingCollapsed": true,
    "tags": []
   },
   "source": [
    "## EDA"
   ]
  },
  {
   "cell_type": "markdown",
   "id": "f0e92362-6d73-4b5f-9e6e-e809a2a064ac",
   "metadata": {
    "jp-MarkdownHeadingCollapsed": true,
    "tags": []
   },
   "source": [
    "### Graficos"
   ]
  },
  {
   "cell_type": "markdown",
   "id": "5f736ce2-a792-4c3a-8869-dd954adacc29",
   "metadata": {},
   "source": [
    "#### Se observa la distribucion de las variables tipo de combustible, tipo de vendedor y tipo de transmision. \n",
    "#### Se ve que el 54% de los registros tienen tipo de combustible Diesel y el 46% Petrol\n",
    "#### Se ve que el 83% de los autos corresponden a un tipo de vendedor individual, el 14% de tipo Dealer y el 3% a Trustmark Dealer\n",
    "#### Se ve que el 86% de los autos corresponden a un tipo de transmision Manual y el 14% a automaticos"
   ]
  },
  {
   "cell_type": "code",
   "execution_count": 24,
   "id": "4041056f-3fed-4c48-bf5e-bd398d69a4ad",
   "metadata": {},
   "outputs": [
    {
     "data": {
      "text/plain": [
       "Text(0, 0.5, 'Cantidad')"
      ]
     },
     "execution_count": 24,
     "metadata": {},
     "output_type": "execute_result"
    },
    {
     "data": {
      "image/png": "[encoded data removed]",
      "text/plain": [
       "<Figure size 1656x432 with 3 Axes>"
      ]
     },
     "metadata": {
      "needs_background": "light"
     },
     "output_type": "display_data"
    }
   ],
   "source": [
    "fig, axes = plt.subplots(1,3,figsize=(23,6))\n",
    "\n",
    "plt.subplot(1,3,1)\n",
    "sns.countplot(df_reduced[\"fuel\"])\n",
    "plt.xlabel(\"Tipo de combustible\")\n",
    "plt.ylabel(\"Cantidad\")\n",
    "\n",
    "plt.subplot(1,3,2)\n",
    "sns.countplot(df_reduced[\"seller_type\"])\n",
    "plt.xlabel(\"Tipo de vendedor\")\n",
    "plt.ylabel(\"Cantidad\")\n",
    "\n",
    "plt.subplot(1,3,3)\n",
    "sns.countplot(df_reduced[\"transmission\"])\n",
    "plt.xlabel(\"Tipo de transmision\")\n",
    "plt.ylabel(\"Cantidad\")\n"
   ]
  },
  {
   "cell_type": "markdown",
   "id": "81c6afac-79f6-4d73-8945-a1d7ee388b08",
   "metadata": {},
   "source": [
    "#### Se observa la distribucion en porcentaje que tiene cada una de las variables"
   ]
  },
  {
   "cell_type": "code",
   "execution_count": 25,
   "id": "4b05dd45-b945-4d4b-bf16-38bb1ff34b4a",
   "metadata": {},
   "outputs": [
    {
     "name": "stdout",
     "output_type": "stream",
     "text": [
      "% combustible:\n",
      "Diesel    0.549815\n",
      "Petrol    0.450185\n",
      "Name: fuel, dtype: float64\n",
      "---------------------------------------------\n",
      "% vendedor:\n",
      "Individual          0.828367\n",
      "Dealer              0.141450\n",
      "Trustmark Dealer    0.030183\n",
      "Name: seller_type, dtype: float64\n",
      "---------------------------------------------\n",
      "% transmision:\n",
      "Manual       0.866863\n",
      "Automatic    0.133137\n",
      "Name: transmission, dtype: float64\n"
     ]
    }
   ],
   "source": [
    "print(\"% combustible:\")\n",
    "print (df_reduced[\"fuel\"].value_counts(normalize=True))\n",
    " \n",
    "print (\"---\"*15)\n",
    "\n",
    "print(\"% vendedor:\")\n",
    "print (df_reduced[\"seller_type\"].value_counts(normalize=True))\n",
    "print (\"---\"*15)\n",
    "\n",
    "print(\"% transmision:\")\n",
    "print (df_reduced[\"transmission\"].value_counts(normalize=True))"
   ]
  },
  {
   "cell_type": "markdown",
   "id": "b8ff40d9-7647-44fa-86aa-2e22e9069814",
   "metadata": {},
   "source": [
    "#### Se observa la distribucion de la variable \"owner\"\n",
    "#### Se observa que la mayoria de los autos han tenido solo un dueño y que vemos unos pocos autos que corresponden a autos concept de prueba"
   ]
  },
  {
   "cell_type": "code",
   "execution_count": 26,
   "id": "48660a69-4aa1-469b-8db8-a3e8f2ddda3e",
   "metadata": {},
   "outputs": [
    {
     "data": {
      "text/plain": [
       "Text(0, 0.5, 'Cantidad')"
      ]
     },
     "execution_count": 26,
     "metadata": {},
     "output_type": "execute_result"
    },
    {
     "data": {
      "image/png": "[encoded data removed]",
      "text/plain": [
       "<Figure size 720x576 with 1 Axes>"
      ]
     },
     "metadata": {
      "needs_background": "light"
     },
     "output_type": "display_data"
    }
   ],
   "source": [
    "plt.figure(figsize=(10,8))\n",
    "sns.countplot(df_reduced[\"owner\"])\n",
    "plt.xlabel(\"Tipo de combustible\")\n",
    "plt.ylabel(\"Cantidad\")"
   ]
  },
  {
   "cell_type": "markdown",
   "id": "16d0a838-df8e-4c92-accf-04aa6026a0b1",
   "metadata": {},
   "source": [
    "#### Se realiza un histograma de las variables numericas. Se observa lo siguiente:\n",
    "#### Kilometros recorridos: tiene una distribucion normal acostada sobre la cola derecha.\n",
    "#### Millas por litro: tiene una distribucion normal\n",
    "#### Engine Consumption: no tiene distribucion normal\n",
    "#### Max_power: no tiene distribucion normal"
   ]
  },
  {
   "cell_type": "code",
   "execution_count": 27,
   "id": "44306cc1-26c3-44a2-99cf-c0f895e73ea5",
   "metadata": {},
   "outputs": [
    {
     "data": {
      "image/png": "[encoded data removed]",
      "text/plain": [
       "<Figure size 1800x576 with 4 Axes>"
      ]
     },
     "metadata": {
      "needs_background": "light"
     },
     "output_type": "display_data"
    }
   ],
   "source": [
    "fig, axes = plt.subplots(1,4,figsize=(25,8))\n",
    "\n",
    "sns.distplot(df_reduced[\"km_driven\"], hist=True, kde=True, color=\"g\",ax=axes[0] )\n",
    "\n",
    "sns.distplot(df_reduced[\"miles_per_liter\"], hist=True, kde=True, color=\"g\", ax=axes[1])\n",
    "\n",
    "sns.distplot(df_reduced[\"engine_consumption\"], hist=True, kde=True, color=\"g\", ax=axes[2])\n",
    "\n",
    "sns.distplot(df_reduced[\"max_power\"], hist=True, kde=True, color=\"g\", ax=axes[3])\n",
    "\n",
    "plt.show()"
   ]
  },
  {
   "cell_type": "markdown",
   "id": "9171f8fe-f5a4-480d-8569-3e3a3c8e3170",
   "metadata": {},
   "source": [
    "#### Se realiza un analisis con Boxplots. Se observa que todas las variables numericas tienen valores anomalos que deberan ser tratados para evitar distorciones en el modelo"
   ]
  },
  {
   "cell_type": "code",
   "execution_count": 28,
   "id": "4ce88064-8322-480e-8557-675e95c11d96",
   "metadata": {},
   "outputs": [
    {
     "data": {
      "image/png": "[encoded data removed]",
      "text/plain": [
       "<Figure size 1800x576 with 4 Axes>"
      ]
     },
     "metadata": {
      "needs_background": "light"
     },
     "output_type": "display_data"
    }
   ],
   "source": [
    "# boxplot\n",
    "# aclaracion: el eje x de la figura \"km_driven\" esta en formato cientifico ya que hay valores muy grandes. Para obtener los valores reales se debe multiplicar por 1000000\n",
    "\n",
    "fig, axes = plt.subplots(1,4,figsize=(25,8))\n",
    "\n",
    "plt.subplot(1,4,1)\n",
    "sns.boxplot(df_reduced[\"km_driven\"])\n",
    "plt.xticks(np.arange(0,3000000,200000))\n",
    "\n",
    "plt.subplot(1,4,2)\n",
    "sns.boxplot(df_reduced[\"miles_per_liter\"])\n",
    "plt.xticks(np.arange(0,45,2))\n",
    "\n",
    "plt.subplot(1,4,3)\n",
    "sns.boxplot(df_reduced[\"engine_consumption\"])\n",
    "plt.xticks(np.arange(500,4500,400))\n",
    "\n",
    "plt.subplot(1,4,4)\n",
    "sns.boxplot(df_reduced[\"max_power\"])\n",
    "plt.xticks(np.arange(50,450,30))\n",
    "\n",
    "plt.show()"
   ]
  },
  {
   "cell_type": "markdown",
   "id": "c4d20452-35ee-4e05-865b-37e8922bba24",
   "metadata": {},
   "source": [
    "#### Se realiza un analisis por separado la variable target: \"selling price\". Observo que despues de los $180.000 (aprox), empiezan los valores extremos."
   ]
  },
  {
   "cell_type": "code",
   "execution_count": 29,
   "id": "32a132fe-30ca-49ac-b2f7-c4e0a637770c",
   "metadata": {},
   "outputs": [
    {
     "data": {
      "image/png": "[encoded data removed]",
      "text/plain": [
       "<Figure size 432x288 with 1 Axes>"
      ]
     },
     "metadata": {
      "needs_background": "light"
     },
     "output_type": "display_data"
    }
   ],
   "source": [
    "sns.boxplot(df_reduced[\"selling_price\"])\n",
    "plt.show()"
   ]
  },
  {
   "cell_type": "markdown",
   "id": "12bde78c-76b9-425a-bd68-4fb852723a08",
   "metadata": {},
   "source": [
    "#### Analizo la relacion entre los kilometros recorridos y la variable tipo de combustible. Se observa que los autos con combustible diesel tienen valores mas altos que los que tienen Petrol"
   ]
  },
  {
   "cell_type": "code",
   "execution_count": 30,
   "id": "979f5dc8-444b-4819-9648-d487f262b02d",
   "metadata": {},
   "outputs": [
    {
     "data": {
      "text/plain": [
       "<AxesSubplot:xlabel='fuel', ylabel='selling_price'>"
      ]
     },
     "execution_count": 30,
     "metadata": {},
     "output_type": "execute_result"
    },
    {
     "data": {
      "image/png": "[encoded data removed]",
      "text/plain": [
       "<Figure size 432x288 with 1 Axes>"
      ]
     },
     "metadata": {
      "needs_background": "light"
     },
     "output_type": "display_data"
    }
   ],
   "source": [
    "sns.barplot(x= df_reduced[\"fuel\"], y = df_reduced[\"selling_price\"])"
   ]
  },
  {
   "cell_type": "markdown",
   "id": "7193cfca-e9a3-46e0-b818-4ff63c9a79ad",
   "metadata": {},
   "source": [
    "#### Analizo la variable tipo de dueño. Observo que hay unos pocos autos de prueba con precios muy altos"
   ]
  },
  {
   "cell_type": "code",
   "execution_count": 31,
   "id": "78cf6f97-18c0-4d31-9a78-af1711d68fb7",
   "metadata": {},
   "outputs": [
    {
     "data": {
      "text/plain": [
       "Text(0.5, 0, 'Dueño')"
      ]
     },
     "execution_count": 31,
     "metadata": {},
     "output_type": "execute_result"
    },
    {
     "data": {
      "image/png": "[encoded data removed]",
      "text/plain": [
       "<Figure size 1800x576 with 2 Axes>"
      ]
     },
     "metadata": {
      "needs_background": "light"
     },
     "output_type": "display_data"
    }
   ],
   "source": [
    "fig, axes = plt.subplots(1,2,figsize=(25,8))\n",
    "\n",
    "plt.subplot(1,2,1)\n",
    "sns.countplot(df_reduced[\"owner\"])\n",
    "plt.title(\"Histograma de la variable 'dueño'\")\n",
    "plt.xlabel(\"Dueño\")\n",
    "plt.ylabel(\"Cantidad\")\n",
    "\n",
    "plt.subplot(1,2,2)\n",
    "sns.barplot(x= df_reduced[\"owner\"], y = df_reduced[\"selling_price\"])\n",
    "plt.title(\"Histograma de la variable 'dueño' analizandolo por selling price\")\n",
    "plt.xlabel(\"Dueño\")"
   ]
  },
  {
   "cell_type": "markdown",
   "id": "5c8e9456-55c1-4730-9cad-26a2bb781a42",
   "metadata": {},
   "source": [
    "#### Observo que hay 5 autos de prueba que tienen valores muy altos por lo que debo eliminarlos para no distorcionar el analisis\n"
   ]
  },
  {
   "cell_type": "code",
   "execution_count": 32,
   "id": "48d7fe29-39e5-42ec-a5fa-d16469902163",
   "metadata": {},
   "outputs": [
    {
     "data": {
      "text/plain": [
       "First Owner             5165\n",
       "Second Owner            1988\n",
       "Third Owner              503\n",
       "Fourth & Above Owner     158\n",
       "Test Drive Car             5\n",
       "Name: owner, dtype: int64"
      ]
     },
     "execution_count": 32,
     "metadata": {},
     "output_type": "execute_result"
    }
   ],
   "source": [
    "df_reduced[\"owner\"].value_counts()"
   ]
  },
  {
   "cell_type": "markdown",
   "id": "8db9c9a3-691b-4c01-9222-fdf0d456d8cc",
   "metadata": {},
   "source": [
    "#### Observo la correlacion entre las variables numericas. Se observa que el precio de venta tiene su mayor correlacion con el poder maximo del auto. "
   ]
  },
  {
   "cell_type": "code",
   "execution_count": 33,
   "id": "8c14802f-5b45-4794-8477-27aa8a4dcd54",
   "metadata": {},
   "outputs": [
    {
     "data": {
      "text/plain": [
       "<AxesSubplot:>"
      ]
     },
     "execution_count": 33,
     "metadata": {},
     "output_type": "execute_result"
    },
    {
     "data": {
      "image/png": "[encoded data removed]",
      "text/plain": [
       "<Figure size 576x432 with 2 Axes>"
      ]
     },
     "metadata": {
      "needs_background": "light"
     },
     "output_type": "display_data"
    }
   ],
   "source": [
    "plt.subplots(figsize=(8,6))\n",
    "sns.heatmap(df.corr(), annot=True,cmap=\"YlOrBr\")"
   ]
  },
  {
   "cell_type": "markdown",
   "id": "c859e6a9-32bf-48af-ac91-5ca88242246e",
   "metadata": {},
   "source": [
    "#### Vuelvo a ver esa relacion entre las variables. Se vuelven a observar los valores extremos ya vistos en el boxplot."
   ]
  },
  {
   "cell_type": "code",
   "execution_count": 34,
   "id": "4367197c-5318-425e-a012-937e8a3d5a50",
   "metadata": {},
   "outputs": [
    {
     "data": {
      "text/plain": [
       "<AxesSubplot:xlabel='selling_price', ylabel='max_power'>"
      ]
     },
     "execution_count": 34,
     "metadata": {},
     "output_type": "execute_result"
    },
    {
     "data": {
      "image/png": "[encoded data removed]",
      "text/plain": [
       "<Figure size 432x288 with 1 Axes>"
      ]
     },
     "metadata": {
      "needs_background": "light"
     },
     "output_type": "display_data"
    }
   ],
   "source": [
    "sns.scatterplot(df_reduced[\"selling_price\"],df[\"max_power\"])"
   ]
  },
  {
   "cell_type": "markdown",
   "id": "7e00bd45-20f0-4781-8364-792203c3ef07",
   "metadata": {},
   "source": [
    "#### Observo lo mismo que en el grafico anterior pero segmentandolo tambien por el tipo de combustible"
   ]
  },
  {
   "cell_type": "code",
   "execution_count": 35,
   "id": "8af7f496-c3c3-423f-888f-b09b82f26951",
   "metadata": {},
   "outputs": [
    {
     "data": {
      "text/plain": [
       "<AxesSubplot:xlabel='selling_price', ylabel='max_power'>"
      ]
     },
     "execution_count": 35,
     "metadata": {},
     "output_type": "execute_result"
    },
    {
     "data": {
      "image/png": "[encoded data removed]",
      "text/plain": [
       "<Figure size 432x288 with 1 Axes>"
      ]
     },
     "metadata": {
      "needs_background": "light"
     },
     "output_type": "display_data"
    }
   ],
   "source": [
    "sns.scatterplot(df_reduced[\"selling_price\"],df[\"max_power\"], hue= df[\"fuel\"])"
   ]
  },
  {
   "cell_type": "markdown",
   "id": "cf1a16ba-f8b8-4634-8b78-a63745cc2ca0",
   "metadata": {
    "jp-MarkdownHeadingCollapsed": true,
    "tags": []
   },
   "source": [
    "### Eliminacion de valores outliers"
   ]
  },
  {
   "cell_type": "code",
   "execution_count": 36,
   "id": "9619bc9c-5efd-4272-b08d-67a9c02620d3",
   "metadata": {},
   "outputs": [],
   "source": [
    "# defino una funcion para obtener una lista con outliers\n",
    "\n",
    "def outliers(df,ft):\n",
    "    q1 = df[ft].quantile(0.25)\n",
    "    q3 = df[ft].quantile(0.75)\n",
    "    IQR = q3 - q1\n",
    "    \n",
    "    lower_bound = q1 - 1.5 * IQR\n",
    "    upper_bound = q3 + 1.5 * IQR\n",
    "    \n",
    "    ls = df.index[ (df[ft] < lower_bound) | (df[ft] > upper_bound)]\n",
    "    return ls"
   ]
  },
  {
   "cell_type": "code",
   "execution_count": 37,
   "id": "74187783-22f1-412c-965f-d875961a1295",
   "metadata": {},
   "outputs": [],
   "source": [
    "# creo una lista para acumular los outliers de diferentes columnas. Solo lo voy a hacer para las variables que voy a analizar.\n",
    "\n",
    "index_list = []\n",
    "\n",
    "for feature in [\"engine_consumption\",  \"max_power\",\"selling_price\" ]:\n",
    "    index_list.extend(outliers(df_reduced,feature))"
   ]
  },
  {
   "cell_type": "code",
   "execution_count": 38,
   "id": "49da2472-956f-41f6-9932-814459245943",
   "metadata": {},
   "outputs": [],
   "source": [
    "# creo una funcion para eliminar los outliers y quedarme con el dataframe final\n",
    "\n",
    "def remove (df,ls):\n",
    "    ls = sorted(set(ls))\n",
    "    df = df.drop(ls)\n",
    "    return df"
   ]
  },
  {
   "cell_type": "code",
   "execution_count": 39,
   "id": "0ffef420-c6a6-440f-a2d1-cf938821883f",
   "metadata": {},
   "outputs": [],
   "source": [
    "# creo el dataset final, filtrando del dataset que tenia, la lista con los outliers\n",
    "\n",
    "df_cleaned = remove(df_reduced, index_list)"
   ]
  },
  {
   "cell_type": "code",
   "execution_count": 40,
   "id": "0039aa9d-be4c-4217-9286-a7cdbde8ec6b",
   "metadata": {},
   "outputs": [
    {
     "name": "stdout",
     "output_type": "stream",
     "text": [
      "Se han eliminado 1570  variables\n"
     ]
    }
   ],
   "source": [
    "print (\"Se han eliminado\", df_reduced.shape[0] - df_cleaned.shape[0], \" variables\")"
   ]
  },
  {
   "cell_type": "markdown",
   "id": "97fce59a-1c82-4587-bfd1-e6c9fd3abbcd",
   "metadata": {},
   "source": [
    "#### Observo nuevamente los valores anomalos. Observo que todavia quedan algunos"
   ]
  },
  {
   "cell_type": "code",
   "execution_count": 41,
   "id": "51c95f5c-44a3-4c4a-8ac4-310e0cffc75a",
   "metadata": {},
   "outputs": [
    {
     "data": {
      "image/png": "[encoded data removed]",
      "text/plain": [
       "<Figure size 1800x576 with 3 Axes>"
      ]
     },
     "metadata": {
      "needs_background": "light"
     },
     "output_type": "display_data"
    }
   ],
   "source": [
    "fig, axes = plt.subplots(1,3,figsize=(25,8))\n",
    "\n",
    "\n",
    "plt.subplot(1,3,1)\n",
    "sns.boxplot(df_cleaned[\"engine_consumption\"])\n",
    "\n",
    "plt.subplot(1,3,2)\n",
    "sns.boxplot(df_cleaned[\"max_power\"])\n",
    "\n",
    "plt.subplot(1,3,3)\n",
    "sns.boxplot(df_cleaned[\"selling_price\"])\n",
    "\n",
    "\n",
    "plt.show()"
   ]
  },
  {
   "cell_type": "markdown",
   "id": "a8768dea-d9f3-4e8f-95b1-205653c6cf90",
   "metadata": {
    "jp-MarkdownHeadingCollapsed": true,
    "tags": []
   },
   "source": [
    "## Etapa de eleccion del modelo de prediccion"
   ]
  },
  {
   "cell_type": "markdown",
   "id": "70a4c74d-c0cd-4bad-8c39-05d88296a7b3",
   "metadata": {
    "tags": []
   },
   "source": [
    "#### Se trabajara con la variable target \"selling_price\". Las variables predictoras seran \"max_power\", \"year\". En una primera instancia iba a trabajar tambien con la variable engine_consumption como predictora pero al observar que entre max_power y engine consumption a su vez hay correlacion, se decidio no incluir engine_consumption para no distorcionar el analisis. De esas 2, max_power es la de mayor correlacion con la variable target por eso elegi quedarme con esa y con year."
   ]
  },
  {
   "cell_type": "markdown",
   "id": "40a68bd4-73b1-4ec2-a1c0-68ee848584c1",
   "metadata": {
    "tags": []
   },
   "source": [
    "#### Definicion de las variables independientes y de la variable dependiente"
   ]
  },
  {
   "cell_type": "code",
   "execution_count": 42,
   "id": "4de0dce4-07c3-45a4-911c-da83ceccdea1",
   "metadata": {},
   "outputs": [],
   "source": [
    "x = df_cleaned[[\"year\", \"max_power\"]]\n",
    "y = df_cleaned[\"selling_price\"]"
   ]
  },
  {
   "cell_type": "markdown",
   "id": "871ff659-8d87-4901-97ab-b348d8c6ecbe",
   "metadata": {
    "tags": []
   },
   "source": [
    "#### Separacion de los datos en datos de entrenamiento y de prueba"
   ]
  },
  {
   "cell_type": "code",
   "execution_count": 43,
   "id": "b5988541-a2f3-4bc9-93e8-f26bf14ede26",
   "metadata": {},
   "outputs": [],
   "source": [
    "from sklearn.model_selection import train_test_split\n",
    "\n",
    "x_train, x_test, y_train, y_test = train_test_split(x,y, random_state=1)"
   ]
  },
  {
   "cell_type": "markdown",
   "id": "b389eb75-1e43-40c3-8d52-dbe911ded79d",
   "metadata": {
    "tags": []
   },
   "source": [
    "#### Definicion de funcion para ejecutar los modelos"
   ]
  },
  {
   "cell_type": "code",
   "execution_count": 44,
   "id": "2f859a03-9223-4bfd-a60e-1daa329a67b2",
   "metadata": {},
   "outputs": [],
   "source": [
    "def fit_ml_algo(algo, train_x , train_y , test_x, test_y):\n",
    "    \n",
    "    model = algo.fit(train_x, train_y)\n",
    "    y_pred = algo.predict(test_x)\n",
    "    score = round(r2_score(test_y, y_pred) * 100, 2)\n",
    "    mse = mean_squared_error(test_y , y_pred , squared=False)\n",
    "    mae = mean_absolute_error(test_y, y_pred)\n",
    "    \n",
    "    \n",
    "    return model, score, mse, mae"
   ]
  },
  {
   "cell_type": "markdown",
   "id": "004da69a-5c7a-43b8-a1e2-ff0204b61175",
   "metadata": {
    "tags": []
   },
   "source": [
    "### Regresion Linear"
   ]
  },
  {
   "cell_type": "code",
   "execution_count": 45,
   "id": "1fa6ebff-023d-45e7-bfc2-b1c0cec5b3f8",
   "metadata": {},
   "outputs": [
    {
     "name": "stdout",
     "output_type": "stream",
     "text": [
      "R2 Score: 68.76\n",
      "Error cuadratico medio: 130706.97057171627\n",
      "Error absoluto medio: 102219.29610009721\n",
      "Running Time: 0:00:00.045103\n"
     ]
    }
   ],
   "source": [
    "start_time = time.time()\n",
    "modelo, score, mse, mae = fit_ml_algo(linear_model.LinearRegression(), x_train, y_train, x_test, y_test)\n",
    "\n",
    "log_time = (time.time() - start_time)\n",
    "\n",
    "print(\"R2 Score: %s\" % score)\n",
    "print(\"Error cuadratico medio: %s\" % mse)\n",
    "print(\"Error absoluto medio: %s\" % mae)\n",
    "print(\"Running Time: %s\" % datetime.timedelta(seconds=log_time))"
   ]
  },
  {
   "cell_type": "markdown",
   "id": "8f89b8f6-b973-4f08-9199-14b45f5babcb",
   "metadata": {
    "tags": []
   },
   "source": [
    "### Arbol de decision"
   ]
  },
  {
   "cell_type": "code",
   "execution_count": 46,
   "id": "d12edd3a-8f14-4823-a386-9b61e93b9925",
   "metadata": {},
   "outputs": [
    {
     "name": "stdout",
     "output_type": "stream",
     "text": [
      "R2 Score: 68.38\n",
      "Error cuadratico medio: 131499.72863214425\n",
      "Error absoluto medio: 94967.5585412668\n",
      "Running Time: 0:00:00.036592\n"
     ]
    }
   ],
   "source": [
    "start_time = time.time()\n",
    "modelo, score, mse, mae = fit_ml_algo(tree.DecisionTreeClassifier(criterion=\"entropy\", max_depth=3), x_train, y_train, x_test, y_test)\n",
    "\n",
    "log_time = (time.time() - start_time)\n",
    "\n",
    "print(\"R2 Score: %s\" % score)\n",
    "print(\"Error cuadratico medio: %s\" % mse)\n",
    "print(\"Error absoluto medio: %s\" % mae)\n",
    "print(\"Running Time: %s\" % datetime.timedelta(seconds=log_time))"
   ]
  },
  {
   "cell_type": "markdown",
   "id": "9fa87b4d-008e-40a7-a411-d6634a21742b",
   "metadata": {
    "tags": []
   },
   "source": [
    "#### Grafico el arbol"
   ]
  },
  {
   "cell_type": "code",
   "execution_count": 47,
   "id": "f0ba5265-d61b-4011-b90e-5470b6646d4f",
   "metadata": {},
   "outputs": [
    {
     "name": "stdout",
     "output_type": "stream",
     "text": [
      "|--- year <= 2013.50\n",
      "|   |--- max_power <= 73.40\n",
      "|   |   |--- year <= 2009.50\n",
      "|   |   |   |--- class: 120000\n",
      "|   |   |--- year >  2009.50\n",
      "|   |   |   |--- class: 200000\n",
      "|   |--- max_power >  73.40\n",
      "|   |   |--- year <= 2011.50\n",
      "|   |   |   |--- class: 250000\n",
      "|   |   |--- year >  2011.50\n",
      "|   |   |   |--- class: 350000\n",
      "|--- year >  2013.50\n",
      "|   |--- max_power <= 73.96\n",
      "|   |   |--- max_power <= 62.60\n",
      "|   |   |   |--- class: 250000\n",
      "|   |   |--- max_power >  62.60\n",
      "|   |   |   |--- class: 350000\n",
      "|   |--- max_power >  73.96\n",
      "|   |   |--- max_power <= 87.00\n",
      "|   |   |   |--- class: 600000\n",
      "|   |   |--- max_power >  87.00\n",
      "|   |   |   |--- class: 650000\n",
      "\n"
     ]
    }
   ],
   "source": [
    "print(tree.export_text(modelo,\n",
    "                      feature_names=[\"year\", \"max_power\"]))"
   ]
  },
  {
   "cell_type": "markdown",
   "id": "35c561ff-ef14-4806-b9b1-0212d64a3106",
   "metadata": {
    "tags": []
   },
   "source": [
    "### Random Forest"
   ]
  },
  {
   "cell_type": "code",
   "execution_count": 48,
   "id": "faee8de7-2caf-4aea-a0ac-f40f0ead0787",
   "metadata": {},
   "outputs": [
    {
     "name": "stdout",
     "output_type": "stream",
     "text": [
      "R2 Score: 86.58\n",
      "Error cuadratico medio: 85658.76041343964\n",
      "Error absoluto medio: 60856.26527092076\n",
      "Running Time: 0:00:00.676626\n"
     ]
    }
   ],
   "source": [
    "start_time = time.time()\n",
    "modelo, score, mse, mae = fit_ml_algo(RandomForestRegressor(n_estimators=100, \n",
    "                               max_features=\"sqrt\",\n",
    "                               bootstrap=True,\n",
    "                               max_samples=2/3,\n",
    "                               oob_score=True), x_train, y_train, x_test, y_test)\n",
    "\n",
    "log_time = (time.time() - start_time)\n",
    "\n",
    "print(\"R2 Score: %s\" % score)\n",
    "print(\"Error cuadratico medio: %s\" % mse)\n",
    "print(\"Error absoluto medio: %s\" % mae)\n",
    "print(\"Running Time: %s\" % datetime.timedelta(seconds=log_time))"
   ]
  },
  {
   "cell_type": "markdown",
   "id": "b3ffdfd5-a466-411e-a517-07d26f67b619",
   "metadata": {
    "tags": []
   },
   "source": [
    "### KNN"
   ]
  },
  {
   "cell_type": "markdown",
   "id": "870ea148-127d-479c-8525-7c182d4d9714",
   "metadata": {
    "tags": []
   },
   "source": [
    "#### Escalado de las variables"
   ]
  },
  {
   "cell_type": "code",
   "execution_count": 49,
   "id": "5c1ec233-0a6b-4a3d-a788-950e6809e0fe",
   "metadata": {},
   "outputs": [],
   "source": [
    "from sklearn import preprocessing \n",
    "escala_x = preprocessing.MinMaxScaler()\n",
    "escala_y = preprocessing.MinMaxScaler()\n",
    "\n",
    "x_train_escalado = escala_x.fit_transform(x_train)\n",
    "y_train_escalado = escala_y.fit_transform(y_train.values.reshape(-1,1))\n",
    "x_test_escalado = escala_x.fit_transform(x_test)\n",
    "y_test_escalado = escala_y.fit_transform(y_test.values.reshape(-1,1))"
   ]
  },
  {
   "cell_type": "code",
   "execution_count": 50,
   "id": "7663c741-7a4e-4e9c-9264-e8d8fba984a3",
   "metadata": {},
   "outputs": [
    {
     "name": "stdout",
     "output_type": "stream",
     "text": [
      "R2 Score: 69.55\n",
      "Error cuadratico medio: 0.101611936729374\n",
      "Error absoluto medio: 0.07456947092431046\n",
      "Running Time: 0:00:00.021387\n"
     ]
    }
   ],
   "source": [
    "start_time = time.time()\n",
    "modelo, score, mse, mae = fit_ml_algo(KNeighborsRegressor(n_neighbors=3),x_train_escalado, y_train_escalado, x_test_escalado, y_test_escalado)\n",
    "\n",
    "log_time = (time.time() - start_time)\n",
    "\n",
    "print(\"R2 Score: %s\" % score)\n",
    "print(\"Error cuadratico medio: %s\" % mse)\n",
    "print(\"Error absoluto medio: %s\" % mae)\n",
    "print(\"Running Time: %s\" % datetime.timedelta(seconds=log_time))"
   ]
  },
  {
   "cell_type": "markdown",
   "id": "3a9e2b05-424a-4841-830c-41d11c4a8071",
   "metadata": {
    "jp-MarkdownHeadingCollapsed": true,
    "tags": []
   },
   "source": [
    "## Analisis con GridSearchCV"
   ]
  },
  {
   "cell_type": "markdown",
   "id": "a08b9891-a737-428f-831b-57b3aeb478b4",
   "metadata": {},
   "source": [
    "#### Defino el diccionario para luego analizar los distintos modelos y los distintos hiperparametros"
   ]
  },
  {
   "cell_type": "code",
   "execution_count": 51,
   "id": "a3d0522c-538d-4509-a409-58943969cd1f",
   "metadata": {},
   "outputs": [],
   "source": [
    "model_params = {\n",
    "    'linear_regression':{\n",
    "        'model':linear_model.LinearRegression(),\n",
    "        'params':{}\n",
    "    },\n",
    "    \n",
    "    'random_forest':{\n",
    "        'model':RandomForestRegressor(max_features=\"sqrt\",\n",
    "                               bootstrap=True,\n",
    "                               max_samples=2/3,\n",
    "                               oob_score=True),\n",
    "        'params':{\n",
    "            'n_estimators':[100,125,150],\n",
    "            'criterion':['squared_error','absolute_error', 'poisson']\n",
    "        }\n",
    "    },\n",
    "    'knn':{\n",
    "        'model':KNeighborsRegressor(),\n",
    "        'params':{\n",
    "            'n_neighbors':np.arange(3,8,1)\n",
    "        }\n",
    "    }\n",
    "}"
   ]
  },
  {
   "cell_type": "markdown",
   "id": "8724b1f5-81f8-4ddc-8d79-fceadfc26c24",
   "metadata": {},
   "source": [
    "#### Hago un for para hacer la comparacion"
   ]
  },
  {
   "cell_type": "code",
   "execution_count": 52,
   "id": "a8b0eb43-75f6-4734-9891-93f9d36a3f96",
   "metadata": {},
   "outputs": [],
   "source": [
    "from sklearn.model_selection import GridSearchCV\n",
    "\n",
    "scores = []\n",
    "\n",
    "for model_name, mp in model_params.items():\n",
    "    clf = GridSearchCV(mp['model'], mp['params'],return_train_score=False, cv=KFold(5, random_state=2,shuffle=True ))\n",
    "    if mp['model'] == KNeighborsRegressor():\n",
    "        clf.fit(x_train_escalado, y_train_escalado)\n",
    "    else:\n",
    "        clf.fit(x_train,y_train)\n",
    "    scores.append({\n",
    "        'model':model_name,\n",
    "        'best_score': clf.best_score_,\n",
    "        'best_params': clf.best_params_\n",
    "    })\n"
   ]
  },
  {
   "cell_type": "code",
   "execution_count": 53,
   "id": "6bc1abc3-270f-486a-9fad-51ddbc2c6852",
   "metadata": {},
   "outputs": [
    {
     "data": {
      "text/plain": [
       "dict_items([('linear_regression', {'model': LinearRegression(), 'params': {}}), ('random_forest', {'model': RandomForestRegressor(max_features='sqrt', max_samples=0.6666666666666666,\n",
       "                      oob_score=True), 'params': {'n_estimators': [100, 125, 150], 'criterion': ['squared_error', 'absolute_error', 'poisson']}}), ('knn', {'model': KNeighborsRegressor(), 'params': {'n_neighbors': array([3, 4, 5, 6, 7])}})])"
      ]
     },
     "execution_count": 53,
     "metadata": {},
     "output_type": "execute_result"
    }
   ],
   "source": [
    "model_params.items()"
   ]
  },
  {
   "cell_type": "markdown",
   "id": "8b927899-f9fa-4dd3-942f-18abd66874eb",
   "metadata": {
    "tags": []
   },
   "source": [
    "#### Imprimo los resultados: el mejor modelo es el de Random Forest con cirterio de squared_error y n_estimators=125"
   ]
  },
  {
   "cell_type": "code",
   "execution_count": 54,
   "id": "d32c1e37-ba2a-4137-b4a7-fb50e9609529",
   "metadata": {},
   "outputs": [
    {
     "data": {
      "text/plain": [
       "[{'model': 'linear_regression',\n",
       "  'best_score': 0.6811637865989629,\n",
       "  'best_params': {}},\n",
       " {'model': 'random_forest',\n",
       "  'best_score': 0.8716817302008391,\n",
       "  'best_params': {'criterion': 'squared_error', 'n_estimators': 125}},\n",
       " {'model': 'knn',\n",
       "  'best_score': 0.8569903698819002,\n",
       "  'best_params': {'n_neighbors': 6}}]"
      ]
     },
     "execution_count": 54,
     "metadata": {},
     "output_type": "execute_result"
    }
   ],
   "source": [
    "scores "
   ]
  },
  {
   "cell_type": "code",
   "execution_count": 55,
   "id": "12779d84-43bf-45e0-9db4-d015319278cc",
   "metadata": {},
   "outputs": [
    {
     "data": {
      "text/html": [
       "<div>\n",
       "<style scoped>\n",
       "    .dataframe tbody tr th:only-of-type {\n",
       "        vertical-align: middle;\n",
       "    }\n",
       "\n",
       "    .dataframe tbody tr th {\n",
       "        vertical-align: top;\n",
       "    }\n",
       "\n",
       "    .dataframe thead th {\n",
       "        text-align: right;\n",
       "    }\n",
       "</style>\n",
       "<table border=\"1\" class=\"dataframe\">\n",
       "  <thead>\n",
       "    <tr style=\"text-align: right;\">\n",
       "      <th></th>\n",
       "      <th>model</th>\n",
       "      <th>best_score</th>\n",
       "      <th>best_params</th>\n",
       "    </tr>\n",
       "  </thead>\n",
       "  <tbody>\n",
       "    <tr>\n",
       "      <th>0</th>\n",
       "      <td>linear_regression</td>\n",
       "      <td>0.681164</td>\n",
       "      <td>{}</td>\n",
       "    </tr>\n",
       "    <tr>\n",
       "      <th>1</th>\n",
       "      <td>random_forest</td>\n",
       "      <td>0.871682</td>\n",
       "      <td>{'criterion': 'squared_error', 'n_estimators':...</td>\n",
       "    </tr>\n",
       "    <tr>\n",
       "      <th>2</th>\n",
       "      <td>knn</td>\n",
       "      <td>0.856990</td>\n",
       "      <td>{'n_neighbors': 6}</td>\n",
       "    </tr>\n",
       "  </tbody>\n",
       "</table>\n",
       "</div>"
      ],
      "text/plain": [
       "               model  best_score  \\\n",
       "0  linear_regression    0.681164   \n",
       "1      random_forest    0.871682   \n",
       "2                knn    0.856990   \n",
       "\n",
       "                                         best_params  \n",
       "0                                                 {}  \n",
       "1  {'criterion': 'squared_error', 'n_estimators':...  \n",
       "2                                 {'n_neighbors': 6}  "
      ]
     },
     "execution_count": 55,
     "metadata": {},
     "output_type": "execute_result"
    }
   ],
   "source": [
    "df_scores = pd.DataFrame(scores, columns=['model', 'best_score', 'best_params'])\n",
    "df_scores"
   ]
  },
  {
   "cell_type": "markdown",
   "id": "5e1904ac-88c3-4cb6-b4f2-4f9169766575",
   "metadata": {
    "tags": []
   },
   "source": [
    "## Conclusiones"
   ]
  },
  {
   "cell_type": "markdown",
   "id": "4ca5e6fc-7622-4c32-8fe5-905ddbca2d29",
   "metadata": {},
   "source": [
    "### Se decidio en primera instancia analizar 4 modelos con distintos resultados cada uno:\n",
    "-  #### Regresion lineal dio un R2 de 0.687\n",
    "-  #### Arbol de decision dio un R2 de 0.683\n",
    "-  #### Random Forest dio un R2 de 0.866\n",
    "-  #### KNN dio un R2 de 69.55\n",
    "\n",
    "### De esto se puede concluir que el Random Forest es el mejor de estos modelos."
   ]
  },
  {
   "cell_type": "markdown",
   "id": "b7105abd-2227-45fd-8b76-d93b8c116089",
   "metadata": {},
   "source": [
    "### Luego, se decidio analizar los modelos de regresion linear, random forest y knn teniendo en cuenta distintos parametros de cada uno de los modelos para ver comparativamente cual era el mejor y cual era la mejor combinacion de parametros\n",
    "### Los distintos parametros que se analizaron fueron: \n",
    "-  #### Random Forest: n_estimators:100,125 y 150. Criterion:'squared_error','absolute_error', 'poisson'\n",
    "-  #### KNN: n_neighbors: 3,4,5,6,7\n",
    "\n",
    "### Se concluyo que el mejor modelo era el Random Forest con 125 arboles y el criterio squared_error. Su R2 fue 0.87179\n",
    "### Tambien, se observo que el modelo knn mejora mucho con n_neighbors=6"
   ]
  },
  {
   "cell_type": "code",
   "execution_count": null,
   "id": "3edfa882-6a8f-42a1-b1ee-d80ab76afef0",
   "metadata": {},
   "outputs": [],
   "source": []
  },
  {
   "cell_type": "code",
   "execution_count": null,
   "id": "8808ace9-ba5f-45ef-b40a-cf43d1c56568",
   "metadata": {},
   "outputs": [],
   "source": []
  },
  {
   "cell_type": "code",
   "execution_count": null,
   "id": "fa780ef7-143d-4d75-bfc7-83b3b64f0df5",
   "metadata": {},
   "outputs": [],
   "source": []
  }
 ],
 "metadata": {
  "kernelspec": {
   "display_name": "Python 3 (ipykernel)",
   "language": "python",
   "name": "python3"
  },
  "language_info": {
   "codemirror_mode": {
    "name": "ipython",
    "version": 3
   },
   "file_extension": ".py",
   "mimetype": "text/x-python",
   "name": "python",
   "nbconvert_exporter": "python",
   "pygments_lexer": "ipython3",
   "version": "3.9.12"
  }
 },
 "nbformat": 4,
 "nbformat_minor": 5
}
